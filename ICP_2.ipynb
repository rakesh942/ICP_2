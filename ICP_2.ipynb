{
  "cells": [
    {
      "cell_type": "code",
      "execution_count": 2,
      "id": "ee112fa9",
      "metadata": {
        "colab": {
          "base_uri": "https://localhost:8080/"
        },
        "id": "ee112fa9",
        "outputId": "c356e3f0-c278-4f27-e74e-05634bede081"
      },
      "outputs": [
        {
          "output_type": "stream",
          "name": "stdout",
          "text": [
            "Your First Name : Rakesh\n",
            "Your Last Name : Narapareddy\n",
            "RakeshNarapareddy\n"
          ]
        }
      ],
      "source": [
        "First_name = ( input(\"Your First Name : \"))\n",
        "last_name = (input(\"Your Last Name : \"))\n",
        "Full_Name = print(First_name + last_name)"
      ]
    },
    {
      "cell_type": "code",
      "source": [
        "def string_alternative(Str):\n",
        "    output = \"\"\n",
        "    for a in range(len(Str)):\n",
        "        if a % 2 == 0:\n",
        "            output += Str[a]\n",
        "    return output\n",
        "\n",
        "print(string_alternative(\"Good evening\"))"
      ],
      "metadata": {
        "colab": {
          "base_uri": "https://localhost:8080/"
        },
        "id": "MDkqJqe3rO5g",
        "outputId": "ba2c91f6-0ae9-44ad-b6c4-4d3f1f36223b"
      },
      "id": "MDkqJqe3rO5g",
      "execution_count": 10,
      "outputs": [
        {
          "output_type": "stream",
          "name": "stdout",
          "text": [
            "Go vnn\n"
          ]
        }
      ]
    },
    {
      "cell_type": "code",
      "execution_count": 7,
      "id": "d6870613",
      "metadata": {
        "colab": {
          "base_uri": "https://localhost:8080/"
        },
        "id": "d6870613",
        "outputId": "c5704d18-854f-4bb1-c48f-a4625ec37a5e"
      },
      "outputs": [
        {
          "output_type": "stream",
          "name": "stdout",
          "text": [
            "{'Python': 1, 'Course': 2, 'Deep': 1, 'Learning': 1}\n"
          ]
        }
      ],
      "source": [
        "file1 = open('input.txt', 'r')\n",
        "counts = dict()\n",
        "data = file1.read()\n",
        "words = data.split()\n",
        "for word in words:\n",
        "    if word in counts:\n",
        "        counts[word] += 1\n",
        "    else:\n",
        "        counts[word] = 1\n",
        "print(counts)\n",
        "f = open(\"output\", \"w\")\n",
        "for line in file1:\n",
        "    f.write(file1)\n",
        "f.write('\\nword_count:\\n')\n",
        "for key in list(counts.keys()):\n",
        "    f.write(str(key)+ \":\"+str(counts[key])+'\\n')\n",
        "f.close()"
      ]
    },
    {
      "cell_type": "code",
      "source": [
        "from google.colab import drive\n",
        "drive.mount('/content/drive')"
      ],
      "metadata": {
        "colab": {
          "base_uri": "https://localhost:8080/"
        },
        "id": "oCYzlISqqRee",
        "outputId": "4bcdb3c6-8a1e-4734-ca6a-aec80839c8ae"
      },
      "id": "oCYzlISqqRee",
      "execution_count": 8,
      "outputs": [
        {
          "output_type": "stream",
          "name": "stdout",
          "text": [
            "Mounted at /content/drive\n"
          ]
        }
      ]
    },
    {
      "cell_type": "code",
      "execution_count": 9,
      "id": "aaefbbe1",
      "metadata": {
        "colab": {
          "base_uri": "https://localhost:8080/"
        },
        "id": "aaefbbe1",
        "outputId": "1e0f04f3-d84f-4bc1-bb75-34b5b8bba464"
      },
      "outputs": [
        {
          "output_type": "stream",
          "name": "stdout",
          "text": [
            "150 155 145 148\n",
            "[381.0, 393.7, 368.3, 375.92]\n"
          ]
        }
      ],
      "source": [
        "L1=list(map(float,input().split()))\n",
        "L2=[x*2.54 for x in L1]\n",
        "print(L2)\n"
      ]
    },
    {
      "cell_type": "code",
      "source": [
        "L1=list(map(float,input().split()))\n",
        "L2=[]\n",
        "for x in L1:\n",
        "    x=x*2.54\n",
        "    L2.append(x)\n",
        "print(L2)"
      ],
      "metadata": {
        "colab": {
          "base_uri": "https://localhost:8080/"
        },
        "id": "NcQ8xyqLphcs",
        "outputId": "4d0fbc4d-4fe4-413b-8abc-03761043a6a2"
      },
      "id": "NcQ8xyqLphcs",
      "execution_count": 5,
      "outputs": [
        {
          "output_type": "stream",
          "name": "stdout",
          "text": [
            "150 155 145 148\n",
            "[381.0, 393.7, 368.3, 375.92]\n"
          ]
        }
      ]
    }
  ],
  "metadata": {
    "kernelspec": {
      "display_name": "Python 3 (ipykernel)",
      "language": "python",
      "name": "python3"
    },
    "language_info": {
      "codemirror_mode": {
        "name": "ipython",
        "version": 3
      },
      "file_extension": ".py",
      "mimetype": "text/x-python",
      "name": "python",
      "nbconvert_exporter": "python",
      "pygments_lexer": "ipython3",
      "version": "3.9.13"
    },
    "colab": {
      "provenance": []
    }
  },
  "nbformat": 4,
  "nbformat_minor": 5
}